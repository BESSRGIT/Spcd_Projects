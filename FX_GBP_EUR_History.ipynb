{
 "cells": [
  {
   "cell_type": "markdown",
   "metadata": {},
   "source": [
    "# Time Series: Investigate Currency Exchange History £ --> €\n",
    "## Data: https://www.ofx.com/\n",
    "## Load libraries and read datafile "
   ]
  },
  {
   "cell_type": "code",
   "execution_count": 56,
   "metadata": {},
   "outputs": [],
   "source": [
    "import pandas as pd\n",
    "import numpy as np\n",
    "import matplotlib.pyplot as plt\n",
    "import seaborn as sns\n",
    "from datetime import datetime"
   ]
  },
  {
   "cell_type": "code",
   "execution_count": 57,
   "metadata": {},
   "outputs": [
    {
     "data": {
      "text/html": [
       "<div>\n",
       "<style scoped>\n",
       "    .dataframe tbody tr th:only-of-type {\n",
       "        vertical-align: middle;\n",
       "    }\n",
       "\n",
       "    .dataframe tbody tr th {\n",
       "        vertical-align: top;\n",
       "    }\n",
       "\n",
       "    .dataframe thead th {\n",
       "        text-align: right;\n",
       "    }\n",
       "</style>\n",
       "<table border=\"1\" class=\"dataframe\">\n",
       "  <thead>\n",
       "    <tr style=\"text-align: right;\">\n",
       "      <th></th>\n",
       "      <th>Date</th>\n",
       "      <th>Conversion</th>\n",
       "    </tr>\n",
       "  </thead>\n",
       "  <tbody>\n",
       "    <tr>\n",
       "      <th>0</th>\n",
       "      <td>2008-05-07</td>\n",
       "      <td>1.270219</td>\n",
       "    </tr>\n",
       "    <tr>\n",
       "      <th>1</th>\n",
       "      <td>2008-05-08</td>\n",
       "      <td>1.269209</td>\n",
       "    </tr>\n",
       "    <tr>\n",
       "      <th>2</th>\n",
       "      <td>2008-05-09</td>\n",
       "      <td>1.269134</td>\n",
       "    </tr>\n",
       "    <tr>\n",
       "      <th>3</th>\n",
       "      <td>2008-05-10</td>\n",
       "      <td>1.269134</td>\n",
       "    </tr>\n",
       "    <tr>\n",
       "      <th>4</th>\n",
       "      <td>2008-05-11</td>\n",
       "      <td>1.269134</td>\n",
       "    </tr>\n",
       "  </tbody>\n",
       "</table>\n",
       "</div>"
      ],
      "text/plain": [
       "        Date  Conversion\n",
       "0 2008-05-07    1.270219\n",
       "1 2008-05-08    1.269209\n",
       "2 2008-05-09    1.269134\n",
       "3 2008-05-10    1.269134\n",
       "4 2008-05-11    1.269134"
      ]
     },
     "execution_count": 57,
     "metadata": {},
     "output_type": "execute_result"
    }
   ],
   "source": [
    "fn = 'ofx-GBP-EUR-2.xlsx'\n",
    "data = pd.read_excel(fn)\n",
    "df_fx = pd.DataFrame(data)\n",
    "df_fx.head()"
   ]
  },
  {
   "cell_type": "markdown",
   "metadata": {},
   "source": [
    "### Data Pre-processing\n",
    "#### $\\color{blue}{\\text{For some conversion rates the digit seems to have shifted by one, e.g}}$"
   ]
  },
  {
   "cell_type": "code",
   "execution_count": 58,
   "metadata": {},
   "outputs": [
    {
     "data": {
      "text/html": [
       "<div>\n",
       "<style scoped>\n",
       "    .dataframe tbody tr th:only-of-type {\n",
       "        vertical-align: middle;\n",
       "    }\n",
       "\n",
       "    .dataframe tbody tr th {\n",
       "        vertical-align: top;\n",
       "    }\n",
       "\n",
       "    .dataframe thead th {\n",
       "        text-align: right;\n",
       "    }\n",
       "</style>\n",
       "<table border=\"1\" class=\"dataframe\">\n",
       "  <thead>\n",
       "    <tr style=\"text-align: right;\">\n",
       "      <th></th>\n",
       "      <th>Date</th>\n",
       "      <th>Conversion</th>\n",
       "    </tr>\n",
       "  </thead>\n",
       "  <tbody>\n",
       "    <tr>\n",
       "      <th>13</th>\n",
       "      <td>2008-05-20</td>\n",
       "      <td>1.255727</td>\n",
       "    </tr>\n",
       "    <tr>\n",
       "      <th>14</th>\n",
       "      <td>2008-05-21</td>\n",
       "      <td>0.125716</td>\n",
       "    </tr>\n",
       "    <tr>\n",
       "      <th>15</th>\n",
       "      <td>2008-05-22</td>\n",
       "      <td>1.247786</td>\n",
       "    </tr>\n",
       "  </tbody>\n",
       "</table>\n",
       "</div>"
      ],
      "text/plain": [
       "         Date  Conversion\n",
       "13 2008-05-20    1.255727\n",
       "14 2008-05-21    0.125716\n",
       "15 2008-05-22    1.247786"
      ]
     },
     "execution_count": 58,
     "metadata": {},
     "output_type": "execute_result"
    }
   ],
   "source": [
    "df_fx[13:16]"
   ]
  },
  {
   "cell_type": "markdown",
   "metadata": {},
   "source": [
    "$\\color{blue}{\\text{Option 1: Delete all values < 0.5}}$"
   ]
  },
  {
   "cell_type": "code",
   "execution_count": 59,
   "metadata": {},
   "outputs": [
    {
     "name": "stdout",
     "output_type": "stream",
     "text": [
      "(3628, 2)\n",
      "(3258, 2)\n"
     ]
    }
   ],
   "source": [
    "df_fx_option1 = df_fx[df_fx.Conversion >0.5]\n",
    "print(df_fx.shape)\n",
    "print(df_fx_option1.shape)"
   ]
  },
  {
   "cell_type": "markdown",
   "metadata": {},
   "source": [
    "$\\color{blue}{\\text{Option 2 (with which we will continue): Multiply all values < 0.5 with 10}}$"
   ]
  },
  {
   "cell_type": "code",
   "execution_count": 60,
   "metadata": {},
   "outputs": [],
   "source": [
    "def multi(x):\n",
    "    if x < 0.5:\n",
    "        return(x * 10)\n",
    "    else:\n",
    "        return x\n",
    "    \n",
    "df_fx['Conversion_op2'] = df_fx['Conversion'].apply(multi)\n",
    "    "
   ]
  },
  {
   "cell_type": "code",
   "execution_count": 61,
   "metadata": {},
   "outputs": [
    {
     "data": {
      "text/html": [
       "<div>\n",
       "<style scoped>\n",
       "    .dataframe tbody tr th:only-of-type {\n",
       "        vertical-align: middle;\n",
       "    }\n",
       "\n",
       "    .dataframe tbody tr th {\n",
       "        vertical-align: top;\n",
       "    }\n",
       "\n",
       "    .dataframe thead th {\n",
       "        text-align: right;\n",
       "    }\n",
       "</style>\n",
       "<table border=\"1\" class=\"dataframe\">\n",
       "  <thead>\n",
       "    <tr style=\"text-align: right;\">\n",
       "      <th></th>\n",
       "      <th>Date</th>\n",
       "      <th>Conversion</th>\n",
       "      <th>Conversion_op2</th>\n",
       "    </tr>\n",
       "  </thead>\n",
       "  <tbody>\n",
       "    <tr>\n",
       "      <th>13</th>\n",
       "      <td>2008-05-20</td>\n",
       "      <td>1.255727</td>\n",
       "      <td>1.255727</td>\n",
       "    </tr>\n",
       "    <tr>\n",
       "      <th>14</th>\n",
       "      <td>2008-05-21</td>\n",
       "      <td>0.125716</td>\n",
       "      <td>1.257160</td>\n",
       "    </tr>\n",
       "    <tr>\n",
       "      <th>15</th>\n",
       "      <td>2008-05-22</td>\n",
       "      <td>1.247786</td>\n",
       "      <td>1.247786</td>\n",
       "    </tr>\n",
       "  </tbody>\n",
       "</table>\n",
       "</div>"
      ],
      "text/plain": [
       "         Date  Conversion  Conversion_op2\n",
       "13 2008-05-20    1.255727        1.255727\n",
       "14 2008-05-21    0.125716        1.257160\n",
       "15 2008-05-22    1.247786        1.247786"
      ]
     },
     "execution_count": 61,
     "metadata": {},
     "output_type": "execute_result"
    }
   ],
   "source": [
    "df_fx[13:16]"
   ]
  },
  {
   "cell_type": "markdown",
   "metadata": {},
   "source": [
    "$\\color{red}{\\text{!!! For some values, even this operation leaves the value below 1.}}$"
   ]
  },
  {
   "cell_type": "code",
   "execution_count": 62,
   "metadata": {},
   "outputs": [
    {
     "data": {
      "text/html": [
       "<div>\n",
       "<style scoped>\n",
       "    .dataframe tbody tr th:only-of-type {\n",
       "        vertical-align: middle;\n",
       "    }\n",
       "\n",
       "    .dataframe tbody tr th {\n",
       "        vertical-align: top;\n",
       "    }\n",
       "\n",
       "    .dataframe thead th {\n",
       "        text-align: right;\n",
       "    }\n",
       "</style>\n",
       "<table border=\"1\" class=\"dataframe\">\n",
       "  <thead>\n",
       "    <tr style=\"text-align: right;\">\n",
       "      <th></th>\n",
       "      <th>Date</th>\n",
       "      <th>Conversion</th>\n",
       "      <th>Conversion_op2</th>\n",
       "    </tr>\n",
       "  </thead>\n",
       "  <tbody>\n",
       "    <tr>\n",
       "      <th>113</th>\n",
       "      <td>2008-08-28</td>\n",
       "      <td>0.012473</td>\n",
       "      <td>0.12473</td>\n",
       "    </tr>\n",
       "    <tr>\n",
       "      <th>302</th>\n",
       "      <td>2009-03-05</td>\n",
       "      <td>0.011221</td>\n",
       "      <td>0.11221</td>\n",
       "    </tr>\n",
       "    <tr>\n",
       "      <th>434</th>\n",
       "      <td>2009-07-15</td>\n",
       "      <td>0.011684</td>\n",
       "      <td>0.11684</td>\n",
       "    </tr>\n",
       "    <tr>\n",
       "      <th>435</th>\n",
       "      <td>2009-07-16</td>\n",
       "      <td>0.011649</td>\n",
       "      <td>0.11649</td>\n",
       "    </tr>\n",
       "    <tr>\n",
       "      <th>680</th>\n",
       "      <td>2010-03-18</td>\n",
       "      <td>0.011151</td>\n",
       "      <td>0.11151</td>\n",
       "    </tr>\n",
       "  </tbody>\n",
       "</table>\n",
       "</div>"
      ],
      "text/plain": [
       "          Date  Conversion  Conversion_op2\n",
       "113 2008-08-28    0.012473         0.12473\n",
       "302 2009-03-05    0.011221         0.11221\n",
       "434 2009-07-15    0.011684         0.11684\n",
       "435 2009-07-16    0.011649         0.11649\n",
       "680 2010-03-18    0.011151         0.11151"
      ]
     },
     "execution_count": 62,
     "metadata": {},
     "output_type": "execute_result"
    }
   ],
   "source": [
    "df_fx[df_fx['Conversion_op2'] < 1].head()"
   ]
  },
  {
   "cell_type": "markdown",
   "metadata": {},
   "source": [
    "$\\color{red}{\\text{These will be treated as artefacts and deleted from the dataset:}}$"
   ]
  },
  {
   "cell_type": "code",
   "execution_count": 63,
   "metadata": {},
   "outputs": [],
   "source": [
    "df_fx = df_fx[df_fx.Conversion_op2 > 1]"
   ]
  },
  {
   "cell_type": "code",
   "execution_count": 64,
   "metadata": {},
   "outputs": [
    {
     "data": {
      "text/html": [
       "<div>\n",
       "<style scoped>\n",
       "    .dataframe tbody tr th:only-of-type {\n",
       "        vertical-align: middle;\n",
       "    }\n",
       "\n",
       "    .dataframe tbody tr th {\n",
       "        vertical-align: top;\n",
       "    }\n",
       "\n",
       "    .dataframe thead th {\n",
       "        text-align: right;\n",
       "    }\n",
       "</style>\n",
       "<table border=\"1\" class=\"dataframe\">\n",
       "  <thead>\n",
       "    <tr style=\"text-align: right;\">\n",
       "      <th></th>\n",
       "      <th>Date</th>\n",
       "      <th>Conversion</th>\n",
       "      <th>Conversion_op2</th>\n",
       "    </tr>\n",
       "  </thead>\n",
       "  <tbody>\n",
       "    <tr>\n",
       "      <th>0</th>\n",
       "      <td>2008-05-07</td>\n",
       "      <td>1.270219</td>\n",
       "      <td>1.270219</td>\n",
       "    </tr>\n",
       "    <tr>\n",
       "      <th>1</th>\n",
       "      <td>2008-05-08</td>\n",
       "      <td>1.269209</td>\n",
       "      <td>1.269209</td>\n",
       "    </tr>\n",
       "    <tr>\n",
       "      <th>2</th>\n",
       "      <td>2008-05-09</td>\n",
       "      <td>1.269134</td>\n",
       "      <td>1.269134</td>\n",
       "    </tr>\n",
       "    <tr>\n",
       "      <th>3</th>\n",
       "      <td>2008-05-10</td>\n",
       "      <td>1.269134</td>\n",
       "      <td>1.269134</td>\n",
       "    </tr>\n",
       "    <tr>\n",
       "      <th>4</th>\n",
       "      <td>2008-05-11</td>\n",
       "      <td>1.269134</td>\n",
       "      <td>1.269134</td>\n",
       "    </tr>\n",
       "  </tbody>\n",
       "</table>\n",
       "</div>"
      ],
      "text/plain": [
       "        Date  Conversion  Conversion_op2\n",
       "0 2008-05-07    1.270219        1.270219\n",
       "1 2008-05-08    1.269209        1.269209\n",
       "2 2008-05-09    1.269134        1.269134\n",
       "3 2008-05-10    1.269134        1.269134\n",
       "4 2008-05-11    1.269134        1.269134"
      ]
     },
     "execution_count": 64,
     "metadata": {},
     "output_type": "execute_result"
    }
   ],
   "source": [
    "df_fx.head()"
   ]
  },
  {
   "cell_type": "markdown",
   "metadata": {},
   "source": [
    "### Extra columns showing year, month and day separately"
   ]
  },
  {
   "cell_type": "code",
   "execution_count": 65,
   "metadata": {},
   "outputs": [],
   "source": [
    "df_fx['Year'], df_fx['Month'], df_fx['Day'] = (df_fx['Date'].dt.year, \n",
    "                                               df_fx['Date'].dt.month, \n",
    "                                               df_fx['Date'].dt.day)"
   ]
  },
  {
   "cell_type": "code",
   "execution_count": 66,
   "metadata": {},
   "outputs": [
    {
     "data": {
      "text/html": [
       "<div>\n",
       "<style scoped>\n",
       "    .dataframe tbody tr th:only-of-type {\n",
       "        vertical-align: middle;\n",
       "    }\n",
       "\n",
       "    .dataframe tbody tr th {\n",
       "        vertical-align: top;\n",
       "    }\n",
       "\n",
       "    .dataframe thead th {\n",
       "        text-align: right;\n",
       "    }\n",
       "</style>\n",
       "<table border=\"1\" class=\"dataframe\">\n",
       "  <thead>\n",
       "    <tr style=\"text-align: right;\">\n",
       "      <th></th>\n",
       "      <th>Date</th>\n",
       "      <th>Conversion</th>\n",
       "      <th>Conversion_op2</th>\n",
       "      <th>Year</th>\n",
       "      <th>Month</th>\n",
       "      <th>Day</th>\n",
       "    </tr>\n",
       "  </thead>\n",
       "  <tbody>\n",
       "    <tr>\n",
       "      <th>0</th>\n",
       "      <td>2008-05-07</td>\n",
       "      <td>1.270219</td>\n",
       "      <td>1.270219</td>\n",
       "      <td>2008</td>\n",
       "      <td>5</td>\n",
       "      <td>7</td>\n",
       "    </tr>\n",
       "    <tr>\n",
       "      <th>1</th>\n",
       "      <td>2008-05-08</td>\n",
       "      <td>1.269209</td>\n",
       "      <td>1.269209</td>\n",
       "      <td>2008</td>\n",
       "      <td>5</td>\n",
       "      <td>8</td>\n",
       "    </tr>\n",
       "    <tr>\n",
       "      <th>2</th>\n",
       "      <td>2008-05-09</td>\n",
       "      <td>1.269134</td>\n",
       "      <td>1.269134</td>\n",
       "      <td>2008</td>\n",
       "      <td>5</td>\n",
       "      <td>9</td>\n",
       "    </tr>\n",
       "    <tr>\n",
       "      <th>3</th>\n",
       "      <td>2008-05-10</td>\n",
       "      <td>1.269134</td>\n",
       "      <td>1.269134</td>\n",
       "      <td>2008</td>\n",
       "      <td>5</td>\n",
       "      <td>10</td>\n",
       "    </tr>\n",
       "    <tr>\n",
       "      <th>4</th>\n",
       "      <td>2008-05-11</td>\n",
       "      <td>1.269134</td>\n",
       "      <td>1.269134</td>\n",
       "      <td>2008</td>\n",
       "      <td>5</td>\n",
       "      <td>11</td>\n",
       "    </tr>\n",
       "  </tbody>\n",
       "</table>\n",
       "</div>"
      ],
      "text/plain": [
       "        Date  Conversion  Conversion_op2  Year  Month  Day\n",
       "0 2008-05-07    1.270219        1.270219  2008      5    7\n",
       "1 2008-05-08    1.269209        1.269209  2008      5    8\n",
       "2 2008-05-09    1.269134        1.269134  2008      5    9\n",
       "3 2008-05-10    1.269134        1.269134  2008      5   10\n",
       "4 2008-05-11    1.269134        1.269134  2008      5   11"
      ]
     },
     "execution_count": 66,
     "metadata": {},
     "output_type": "execute_result"
    }
   ],
   "source": [
    "df_fx.head()"
   ]
  },
  {
   "cell_type": "markdown",
   "metadata": {},
   "source": [
    "## Split dataframe into 2, i.e. pre- and post-brexit "
   ]
  },
  {
   "cell_type": "code",
   "execution_count": 67,
   "metadata": {},
   "outputs": [],
   "source": [
    "date_of_ref = '2016-06-23' # Date of Referendum\n",
    "df_fx_pre = df_fx[df_fx['Date'] <= date_of_ref]\n",
    "df_fx_post = df_fx[df_fx['Date'] > date_of_ref]"
   ]
  },
  {
   "cell_type": "code",
   "execution_count": 68,
   "metadata": {},
   "outputs": [
    {
     "name": "stdout",
     "output_type": "stream",
     "text": [
      "           Date  Conversion  Conversion_op2  Year  Month  Day\n",
      "2949 2016-06-19    1.273384        1.273384  2016      6   19\n",
      "2950 2016-06-20    1.273338        1.273338  2016      6   20\n",
      "2951 2016-06-21    1.296336        1.296336  2016      6   21\n",
      "2952 2016-06-22    1.302646        1.302646  2016      6   22\n",
      "2953 2016-06-23    1.297159        1.297159  2016      6   23\n",
      "           Date  Conversion  Conversion_op2  Year  Month  Day\n",
      "2954 2016-06-24    1.305769        1.305769  2016      6   24\n",
      "2955 2016-06-25    1.228998        1.228998  2016      6   25\n",
      "2956 2016-06-26    1.230365        1.230365  2016      6   26\n",
      "2957 2016-06-27    1.230365        1.230365  2016      6   27\n",
      "2958 2016-06-28    1.196887        1.196887  2016      6   28\n"
     ]
    }
   ],
   "source": [
    "print(df_fx_pre.tail())\n",
    "print(df_fx_post.head())"
   ]
  },
  {
   "cell_type": "code",
   "execution_count": 69,
   "metadata": {},
   "outputs": [],
   "source": [
    "# Analysis to be done"
   ]
  },
  {
   "cell_type": "code",
   "execution_count": null,
   "metadata": {},
   "outputs": [],
   "source": []
  }
 ],
 "metadata": {
  "kernelspec": {
   "display_name": "Python 3",
   "language": "python",
   "name": "python3"
  },
  "language_info": {
   "codemirror_mode": {
    "name": "ipython",
    "version": 3
   },
   "file_extension": ".py",
   "mimetype": "text/x-python",
   "name": "python",
   "nbconvert_exporter": "python",
   "pygments_lexer": "ipython3",
   "version": "3.6.8"
  }
 },
 "nbformat": 4,
 "nbformat_minor": 2
}
