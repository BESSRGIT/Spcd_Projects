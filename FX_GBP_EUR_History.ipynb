{
 "cells": [
  {
   "cell_type": "markdown",
   "metadata": {},
   "source": [
    "# Time Series: Investigate Currency Exchange History £ --> €\n",
    "## Data: https://www.ofx.com/\n",
    "## Load libraries and read datafile "
   ]
  },
  {
   "cell_type": "code",
   "execution_count": 61,
   "metadata": {},
   "outputs": [],
   "source": [
    "import pandas as pd\n",
    "import numpy as np\n",
    "import matplotlib.pyplot as plt\n",
    "import seaborn as sns\n",
    "from datetime import datetime\n",
    "from bokeh.plotting import figure, output_file, show\n",
    "from bokeh.models import ColumnDataSource"
   ]
  },
  {
   "cell_type": "code",
   "execution_count": 62,
   "metadata": {},
   "outputs": [
    {
     "data": {
      "text/html": [
       "<div>\n",
       "<style scoped>\n",
       "    .dataframe tbody tr th:only-of-type {\n",
       "        vertical-align: middle;\n",
       "    }\n",
       "\n",
       "    .dataframe tbody tr th {\n",
       "        vertical-align: top;\n",
       "    }\n",
       "\n",
       "    .dataframe thead th {\n",
       "        text-align: right;\n",
       "    }\n",
       "</style>\n",
       "<table border=\"1\" class=\"dataframe\">\n",
       "  <thead>\n",
       "    <tr style=\"text-align: right;\">\n",
       "      <th></th>\n",
       "      <th>Date</th>\n",
       "      <th>Conversion</th>\n",
       "    </tr>\n",
       "  </thead>\n",
       "  <tbody>\n",
       "    <tr>\n",
       "      <th>0</th>\n",
       "      <td>2008-05-07</td>\n",
       "      <td>1.270219</td>\n",
       "    </tr>\n",
       "    <tr>\n",
       "      <th>1</th>\n",
       "      <td>2008-05-08</td>\n",
       "      <td>1.269209</td>\n",
       "    </tr>\n",
       "    <tr>\n",
       "      <th>2</th>\n",
       "      <td>2008-05-09</td>\n",
       "      <td>1.269134</td>\n",
       "    </tr>\n",
       "    <tr>\n",
       "      <th>3</th>\n",
       "      <td>2008-05-10</td>\n",
       "      <td>1.269134</td>\n",
       "    </tr>\n",
       "    <tr>\n",
       "      <th>4</th>\n",
       "      <td>2008-05-11</td>\n",
       "      <td>1.269134</td>\n",
       "    </tr>\n",
       "  </tbody>\n",
       "</table>\n",
       "</div>"
      ],
      "text/plain": [
       "        Date  Conversion\n",
       "0 2008-05-07    1.270219\n",
       "1 2008-05-08    1.269209\n",
       "2 2008-05-09    1.269134\n",
       "3 2008-05-10    1.269134\n",
       "4 2008-05-11    1.269134"
      ]
     },
     "execution_count": 62,
     "metadata": {},
     "output_type": "execute_result"
    }
   ],
   "source": [
    "fn = 'ofx-GBP-EUR-2.xlsx'\n",
    "data = pd.read_excel(fn)\n",
    "df_fx = pd.DataFrame(data)\n",
    "df_fx.head()"
   ]
  },
  {
   "cell_type": "markdown",
   "metadata": {},
   "source": [
    "### Data Pre-processing\n",
    "#### $\\color{blue}{\\text{For some conversion rates the digit seems to have shifted by one, e.g}}$"
   ]
  },
  {
   "cell_type": "code",
   "execution_count": 63,
   "metadata": {},
   "outputs": [
    {
     "data": {
      "text/html": [
       "<div>\n",
       "<style scoped>\n",
       "    .dataframe tbody tr th:only-of-type {\n",
       "        vertical-align: middle;\n",
       "    }\n",
       "\n",
       "    .dataframe tbody tr th {\n",
       "        vertical-align: top;\n",
       "    }\n",
       "\n",
       "    .dataframe thead th {\n",
       "        text-align: right;\n",
       "    }\n",
       "</style>\n",
       "<table border=\"1\" class=\"dataframe\">\n",
       "  <thead>\n",
       "    <tr style=\"text-align: right;\">\n",
       "      <th></th>\n",
       "      <th>Date</th>\n",
       "      <th>Conversion</th>\n",
       "    </tr>\n",
       "  </thead>\n",
       "  <tbody>\n",
       "    <tr>\n",
       "      <th>13</th>\n",
       "      <td>2008-05-20</td>\n",
       "      <td>1.255727</td>\n",
       "    </tr>\n",
       "    <tr>\n",
       "      <th>14</th>\n",
       "      <td>2008-05-21</td>\n",
       "      <td>0.125716</td>\n",
       "    </tr>\n",
       "    <tr>\n",
       "      <th>15</th>\n",
       "      <td>2008-05-22</td>\n",
       "      <td>1.247786</td>\n",
       "    </tr>\n",
       "  </tbody>\n",
       "</table>\n",
       "</div>"
      ],
      "text/plain": [
       "         Date  Conversion\n",
       "13 2008-05-20    1.255727\n",
       "14 2008-05-21    0.125716\n",
       "15 2008-05-22    1.247786"
      ]
     },
     "execution_count": 63,
     "metadata": {},
     "output_type": "execute_result"
    }
   ],
   "source": [
    "df_fx[13:16]"
   ]
  },
  {
   "cell_type": "markdown",
   "metadata": {},
   "source": [
    "$\\color{blue}{\\text{Option 1: Delete all values < 0.5}}$"
   ]
  },
  {
   "cell_type": "code",
   "execution_count": 64,
   "metadata": {},
   "outputs": [
    {
     "name": "stdout",
     "output_type": "stream",
     "text": [
      "(3628, 2)\n",
      "(3258, 2)\n"
     ]
    }
   ],
   "source": [
    "df_fx_option1 = df_fx[df_fx.Conversion >0.5]\n",
    "print(df_fx.shape)\n",
    "print(df_fx_option1.shape)"
   ]
  },
  {
   "cell_type": "markdown",
   "metadata": {},
   "source": [
    "$\\color{blue}{\\text{Option 2 (with which we will continue): Multiply all values < 0.5 with 10}}$"
   ]
  },
  {
   "cell_type": "code",
   "execution_count": 65,
   "metadata": {},
   "outputs": [],
   "source": [
    "def multi(x):\n",
    "    if x < 0.5:\n",
    "        return(x * 10)\n",
    "    else:\n",
    "        return x\n",
    "    \n",
    "df_fx['Conversion_op2'] = df_fx['Conversion'].apply(multi)\n",
    "    "
   ]
  },
  {
   "cell_type": "code",
   "execution_count": 66,
   "metadata": {},
   "outputs": [
    {
     "data": {
      "text/html": [
       "<div>\n",
       "<style scoped>\n",
       "    .dataframe tbody tr th:only-of-type {\n",
       "        vertical-align: middle;\n",
       "    }\n",
       "\n",
       "    .dataframe tbody tr th {\n",
       "        vertical-align: top;\n",
       "    }\n",
       "\n",
       "    .dataframe thead th {\n",
       "        text-align: right;\n",
       "    }\n",
       "</style>\n",
       "<table border=\"1\" class=\"dataframe\">\n",
       "  <thead>\n",
       "    <tr style=\"text-align: right;\">\n",
       "      <th></th>\n",
       "      <th>Date</th>\n",
       "      <th>Conversion</th>\n",
       "      <th>Conversion_op2</th>\n",
       "    </tr>\n",
       "  </thead>\n",
       "  <tbody>\n",
       "    <tr>\n",
       "      <th>13</th>\n",
       "      <td>2008-05-20</td>\n",
       "      <td>1.255727</td>\n",
       "      <td>1.255727</td>\n",
       "    </tr>\n",
       "    <tr>\n",
       "      <th>14</th>\n",
       "      <td>2008-05-21</td>\n",
       "      <td>0.125716</td>\n",
       "      <td>1.257160</td>\n",
       "    </tr>\n",
       "    <tr>\n",
       "      <th>15</th>\n",
       "      <td>2008-05-22</td>\n",
       "      <td>1.247786</td>\n",
       "      <td>1.247786</td>\n",
       "    </tr>\n",
       "  </tbody>\n",
       "</table>\n",
       "</div>"
      ],
      "text/plain": [
       "         Date  Conversion  Conversion_op2\n",
       "13 2008-05-20    1.255727        1.255727\n",
       "14 2008-05-21    0.125716        1.257160\n",
       "15 2008-05-22    1.247786        1.247786"
      ]
     },
     "execution_count": 66,
     "metadata": {},
     "output_type": "execute_result"
    }
   ],
   "source": [
    "df_fx[13:16]"
   ]
  },
  {
   "cell_type": "markdown",
   "metadata": {},
   "source": [
    "$\\color{red}{\\text{!!! For some values, even this operation leaves the value below 1.}}$"
   ]
  },
  {
   "cell_type": "code",
   "execution_count": 67,
   "metadata": {},
   "outputs": [
    {
     "data": {
      "text/html": [
       "<div>\n",
       "<style scoped>\n",
       "    .dataframe tbody tr th:only-of-type {\n",
       "        vertical-align: middle;\n",
       "    }\n",
       "\n",
       "    .dataframe tbody tr th {\n",
       "        vertical-align: top;\n",
       "    }\n",
       "\n",
       "    .dataframe thead th {\n",
       "        text-align: right;\n",
       "    }\n",
       "</style>\n",
       "<table border=\"1\" class=\"dataframe\">\n",
       "  <thead>\n",
       "    <tr style=\"text-align: right;\">\n",
       "      <th></th>\n",
       "      <th>Date</th>\n",
       "      <th>Conversion</th>\n",
       "      <th>Conversion_op2</th>\n",
       "    </tr>\n",
       "  </thead>\n",
       "  <tbody>\n",
       "    <tr>\n",
       "      <th>113</th>\n",
       "      <td>2008-08-28</td>\n",
       "      <td>0.012473</td>\n",
       "      <td>0.12473</td>\n",
       "    </tr>\n",
       "    <tr>\n",
       "      <th>302</th>\n",
       "      <td>2009-03-05</td>\n",
       "      <td>0.011221</td>\n",
       "      <td>0.11221</td>\n",
       "    </tr>\n",
       "    <tr>\n",
       "      <th>434</th>\n",
       "      <td>2009-07-15</td>\n",
       "      <td>0.011684</td>\n",
       "      <td>0.11684</td>\n",
       "    </tr>\n",
       "    <tr>\n",
       "      <th>435</th>\n",
       "      <td>2009-07-16</td>\n",
       "      <td>0.011649</td>\n",
       "      <td>0.11649</td>\n",
       "    </tr>\n",
       "    <tr>\n",
       "      <th>680</th>\n",
       "      <td>2010-03-18</td>\n",
       "      <td>0.011151</td>\n",
       "      <td>0.11151</td>\n",
       "    </tr>\n",
       "  </tbody>\n",
       "</table>\n",
       "</div>"
      ],
      "text/plain": [
       "          Date  Conversion  Conversion_op2\n",
       "113 2008-08-28    0.012473         0.12473\n",
       "302 2009-03-05    0.011221         0.11221\n",
       "434 2009-07-15    0.011684         0.11684\n",
       "435 2009-07-16    0.011649         0.11649\n",
       "680 2010-03-18    0.011151         0.11151"
      ]
     },
     "execution_count": 67,
     "metadata": {},
     "output_type": "execute_result"
    }
   ],
   "source": [
    "df_fx[df_fx['Conversion_op2'] < 1].head()"
   ]
  },
  {
   "cell_type": "markdown",
   "metadata": {},
   "source": [
    "$\\color{red}{\\text{These will be treated as artefacts and deleted from the dataset:}}$"
   ]
  },
  {
   "cell_type": "code",
   "execution_count": 68,
   "metadata": {},
   "outputs": [],
   "source": [
    "df_fx = df_fx[df_fx.Conversion_op2 > 1]"
   ]
  },
  {
   "cell_type": "code",
   "execution_count": 69,
   "metadata": {},
   "outputs": [
    {
     "data": {
      "text/html": [
       "<div>\n",
       "<style scoped>\n",
       "    .dataframe tbody tr th:only-of-type {\n",
       "        vertical-align: middle;\n",
       "    }\n",
       "\n",
       "    .dataframe tbody tr th {\n",
       "        vertical-align: top;\n",
       "    }\n",
       "\n",
       "    .dataframe thead th {\n",
       "        text-align: right;\n",
       "    }\n",
       "</style>\n",
       "<table border=\"1\" class=\"dataframe\">\n",
       "  <thead>\n",
       "    <tr style=\"text-align: right;\">\n",
       "      <th></th>\n",
       "      <th>Date</th>\n",
       "      <th>Conversion</th>\n",
       "      <th>Conversion_op2</th>\n",
       "    </tr>\n",
       "  </thead>\n",
       "  <tbody>\n",
       "    <tr>\n",
       "      <th>0</th>\n",
       "      <td>2008-05-07</td>\n",
       "      <td>1.270219</td>\n",
       "      <td>1.270219</td>\n",
       "    </tr>\n",
       "    <tr>\n",
       "      <th>1</th>\n",
       "      <td>2008-05-08</td>\n",
       "      <td>1.269209</td>\n",
       "      <td>1.269209</td>\n",
       "    </tr>\n",
       "    <tr>\n",
       "      <th>2</th>\n",
       "      <td>2008-05-09</td>\n",
       "      <td>1.269134</td>\n",
       "      <td>1.269134</td>\n",
       "    </tr>\n",
       "    <tr>\n",
       "      <th>3</th>\n",
       "      <td>2008-05-10</td>\n",
       "      <td>1.269134</td>\n",
       "      <td>1.269134</td>\n",
       "    </tr>\n",
       "    <tr>\n",
       "      <th>4</th>\n",
       "      <td>2008-05-11</td>\n",
       "      <td>1.269134</td>\n",
       "      <td>1.269134</td>\n",
       "    </tr>\n",
       "  </tbody>\n",
       "</table>\n",
       "</div>"
      ],
      "text/plain": [
       "        Date  Conversion  Conversion_op2\n",
       "0 2008-05-07    1.270219        1.270219\n",
       "1 2008-05-08    1.269209        1.269209\n",
       "2 2008-05-09    1.269134        1.269134\n",
       "3 2008-05-10    1.269134        1.269134\n",
       "4 2008-05-11    1.269134        1.269134"
      ]
     },
     "execution_count": 69,
     "metadata": {},
     "output_type": "execute_result"
    }
   ],
   "source": [
    "df_fx.head()"
   ]
  },
  {
   "cell_type": "markdown",
   "metadata": {},
   "source": [
    "### Extra columns showing year, month and day separately"
   ]
  },
  {
   "cell_type": "code",
   "execution_count": 70,
   "metadata": {},
   "outputs": [],
   "source": [
    "df_fx['Year'], df_fx['Month'], df_fx['Day'] = (df_fx['Date'].dt.year, \n",
    "                                               df_fx['Date'].dt.month, \n",
    "                                               df_fx['Date'].dt.day)"
   ]
  },
  {
   "cell_type": "code",
   "execution_count": 71,
   "metadata": {},
   "outputs": [
    {
     "data": {
      "text/html": [
       "<div>\n",
       "<style scoped>\n",
       "    .dataframe tbody tr th:only-of-type {\n",
       "        vertical-align: middle;\n",
       "    }\n",
       "\n",
       "    .dataframe tbody tr th {\n",
       "        vertical-align: top;\n",
       "    }\n",
       "\n",
       "    .dataframe thead th {\n",
       "        text-align: right;\n",
       "    }\n",
       "</style>\n",
       "<table border=\"1\" class=\"dataframe\">\n",
       "  <thead>\n",
       "    <tr style=\"text-align: right;\">\n",
       "      <th></th>\n",
       "      <th>Date</th>\n",
       "      <th>Conversion</th>\n",
       "      <th>Conversion_op2</th>\n",
       "      <th>Year</th>\n",
       "      <th>Month</th>\n",
       "      <th>Day</th>\n",
       "    </tr>\n",
       "  </thead>\n",
       "  <tbody>\n",
       "    <tr>\n",
       "      <th>0</th>\n",
       "      <td>2008-05-07</td>\n",
       "      <td>1.270219</td>\n",
       "      <td>1.270219</td>\n",
       "      <td>2008</td>\n",
       "      <td>5</td>\n",
       "      <td>7</td>\n",
       "    </tr>\n",
       "    <tr>\n",
       "      <th>1</th>\n",
       "      <td>2008-05-08</td>\n",
       "      <td>1.269209</td>\n",
       "      <td>1.269209</td>\n",
       "      <td>2008</td>\n",
       "      <td>5</td>\n",
       "      <td>8</td>\n",
       "    </tr>\n",
       "    <tr>\n",
       "      <th>2</th>\n",
       "      <td>2008-05-09</td>\n",
       "      <td>1.269134</td>\n",
       "      <td>1.269134</td>\n",
       "      <td>2008</td>\n",
       "      <td>5</td>\n",
       "      <td>9</td>\n",
       "    </tr>\n",
       "    <tr>\n",
       "      <th>3</th>\n",
       "      <td>2008-05-10</td>\n",
       "      <td>1.269134</td>\n",
       "      <td>1.269134</td>\n",
       "      <td>2008</td>\n",
       "      <td>5</td>\n",
       "      <td>10</td>\n",
       "    </tr>\n",
       "    <tr>\n",
       "      <th>4</th>\n",
       "      <td>2008-05-11</td>\n",
       "      <td>1.269134</td>\n",
       "      <td>1.269134</td>\n",
       "      <td>2008</td>\n",
       "      <td>5</td>\n",
       "      <td>11</td>\n",
       "    </tr>\n",
       "  </tbody>\n",
       "</table>\n",
       "</div>"
      ],
      "text/plain": [
       "        Date  Conversion  Conversion_op2  Year  Month  Day\n",
       "0 2008-05-07    1.270219        1.270219  2008      5    7\n",
       "1 2008-05-08    1.269209        1.269209  2008      5    8\n",
       "2 2008-05-09    1.269134        1.269134  2008      5    9\n",
       "3 2008-05-10    1.269134        1.269134  2008      5   10\n",
       "4 2008-05-11    1.269134        1.269134  2008      5   11"
      ]
     },
     "execution_count": 71,
     "metadata": {},
     "output_type": "execute_result"
    }
   ],
   "source": [
    "df_fx.head()"
   ]
  },
  {
   "cell_type": "markdown",
   "metadata": {},
   "source": [
    "## Split dataframe into 2, i.e. pre- and post-brexit "
   ]
  },
  {
   "cell_type": "code",
   "execution_count": 72,
   "metadata": {},
   "outputs": [],
   "source": [
    "date_of_ref = '2016-06-23' # Date of Referendum\n",
    "df_fx_pre = df_fx[df_fx['Date'] <= date_of_ref]\n",
    "df_fx_post = df_fx[df_fx['Date'] > date_of_ref]"
   ]
  },
  {
   "cell_type": "code",
   "execution_count": 73,
   "metadata": {},
   "outputs": [
    {
     "name": "stdout",
     "output_type": "stream",
     "text": [
      "           Date  Conversion  Conversion_op2  Year  Month  Day\n",
      "2949 2016-06-19    1.273384        1.273384  2016      6   19\n",
      "2950 2016-06-20    1.273338        1.273338  2016      6   20\n",
      "2951 2016-06-21    1.296336        1.296336  2016      6   21\n",
      "2952 2016-06-22    1.302646        1.302646  2016      6   22\n",
      "2953 2016-06-23    1.297159        1.297159  2016      6   23\n",
      "           Date  Conversion  Conversion_op2  Year  Month  Day\n",
      "2954 2016-06-24    1.305769        1.305769  2016      6   24\n",
      "2955 2016-06-25    1.228998        1.228998  2016      6   25\n",
      "2956 2016-06-26    1.230365        1.230365  2016      6   26\n",
      "2957 2016-06-27    1.230365        1.230365  2016      6   27\n",
      "2958 2016-06-28    1.196887        1.196887  2016      6   28\n"
     ]
    }
   ],
   "source": [
    "print(df_fx_pre.tail())\n",
    "print(df_fx_post.head())"
   ]
  },
  {
   "cell_type": "markdown",
   "metadata": {},
   "source": [
    "## Re-organize dataframe with having month-day combination as index "
   ]
  },
  {
   "cell_type": "code",
   "execution_count": 75,
   "metadata": {},
   "outputs": [
    {
     "name": "stderr",
     "output_type": "stream",
     "text": [
      "C:\\Users\\DataCoach\\Anaconda3\\lib\\site-packages\\ipykernel_launcher.py:4: SettingWithCopyWarning: \n",
      "A value is trying to be set on a copy of a slice from a DataFrame.\n",
      "Try using .loc[row_indexer,col_indexer] = value instead\n",
      "\n",
      "See the caveats in the documentation: http://pandas.pydata.org/pandas-docs/stable/indexing.html#indexing-view-versus-copy\n",
      "  after removing the cwd from sys.path.\n",
      "C:\\Users\\DataCoach\\Anaconda3\\lib\\site-packages\\ipykernel_launcher.py:5: SettingWithCopyWarning: \n",
      "A value is trying to be set on a copy of a slice from a DataFrame.\n",
      "Try using .loc[row_indexer,col_indexer] = value instead\n",
      "\n",
      "See the caveats in the documentation: http://pandas.pydata.org/pandas-docs/stable/indexing.html#indexing-view-versus-copy\n",
      "  \"\"\"\n"
     ]
    }
   ],
   "source": [
    "def get_monthday(dt):\n",
    "   return dt.strftime('%m%d')\n",
    "\n",
    "df_fx_pre['Month-Day'] = df_fx_pre['Date'].apply(get_monthday)\n",
    "df_fx_post['Month-Day'] = df_fx_post['Date'].apply(get_monthday)\n",
    "fx_pre = df_fx_pre[['Conversion_op2', 'Year', 'Month-Day']].set_index(['Month-Day', 'Year']).unstack(1)\n",
    "fx_post = df_fx_post[['Conversion_op2', 'Year', 'Month-Day']].set_index(['Month-Day', 'Year']).unstack(1)"
   ]
  },
  {
   "cell_type": "code",
   "execution_count": 116,
   "metadata": {},
   "outputs": [],
   "source": [
    "x = fx_pre.index.values"
   ]
  },
  {
   "cell_type": "code",
   "execution_count": 96,
   "metadata": {},
   "outputs": [
    {
     "data": {
      "text/html": [
       "<div>\n",
       "<style scoped>\n",
       "    .dataframe tbody tr th:only-of-type {\n",
       "        vertical-align: middle;\n",
       "    }\n",
       "\n",
       "    .dataframe tbody tr th {\n",
       "        vertical-align: top;\n",
       "    }\n",
       "\n",
       "    .dataframe thead tr th {\n",
       "        text-align: left;\n",
       "    }\n",
       "\n",
       "    .dataframe thead tr:last-of-type th {\n",
       "        text-align: right;\n",
       "    }\n",
       "</style>\n",
       "<table border=\"1\" class=\"dataframe\">\n",
       "  <thead>\n",
       "    <tr>\n",
       "      <th></th>\n",
       "      <th colspan=\"9\" halign=\"left\">Conversion_op2</th>\n",
       "    </tr>\n",
       "    <tr>\n",
       "      <th>Year</th>\n",
       "      <th>2008</th>\n",
       "      <th>2009</th>\n",
       "      <th>2010</th>\n",
       "      <th>2011</th>\n",
       "      <th>2012</th>\n",
       "      <th>2013</th>\n",
       "      <th>2014</th>\n",
       "      <th>2015</th>\n",
       "      <th>2016</th>\n",
       "    </tr>\n",
       "    <tr>\n",
       "      <th>Month-Day</th>\n",
       "      <th></th>\n",
       "      <th></th>\n",
       "      <th></th>\n",
       "      <th></th>\n",
       "      <th></th>\n",
       "      <th></th>\n",
       "      <th></th>\n",
       "      <th></th>\n",
       "      <th></th>\n",
       "    </tr>\n",
       "  </thead>\n",
       "  <tbody>\n",
       "    <tr>\n",
       "      <th>0101</th>\n",
       "      <td>NaN</td>\n",
       "      <td>1.039724</td>\n",
       "      <td>1.128197</td>\n",
       "      <td>1.164769</td>\n",
       "      <td>1.197892</td>\n",
       "      <td>1.232354</td>\n",
       "      <td>1.203232</td>\n",
       "      <td>NaN</td>\n",
       "      <td>1.357325</td>\n",
       "    </tr>\n",
       "    <tr>\n",
       "      <th>0102</th>\n",
       "      <td>NaN</td>\n",
       "      <td>1.043783</td>\n",
       "      <td>1.120105</td>\n",
       "      <td>1.165938</td>\n",
       "      <td>1.197892</td>\n",
       "      <td>1.229838</td>\n",
       "      <td>1.205049</td>\n",
       "      <td>NaN</td>\n",
       "      <td>1.357310</td>\n",
       "    </tr>\n",
       "    <tr>\n",
       "      <th>0103</th>\n",
       "      <td>NaN</td>\n",
       "      <td>1.043783</td>\n",
       "      <td>1.121027</td>\n",
       "      <td>1.160178</td>\n",
       "      <td>1.199120</td>\n",
       "      <td>1.231857</td>\n",
       "      <td>1.202008</td>\n",
       "      <td>NaN</td>\n",
       "      <td>1.357561</td>\n",
       "    </tr>\n",
       "    <tr>\n",
       "      <th>0104</th>\n",
       "      <td>NaN</td>\n",
       "      <td>1.043783</td>\n",
       "      <td>1.121027</td>\n",
       "      <td>1.159097</td>\n",
       "      <td>1.198654</td>\n",
       "      <td>1.231853</td>\n",
       "      <td>1.206721</td>\n",
       "      <td>1.277028</td>\n",
       "      <td>1.357561</td>\n",
       "    </tr>\n",
       "    <tr>\n",
       "      <th>0105</th>\n",
       "      <td>NaN</td>\n",
       "      <td>1.045309</td>\n",
       "      <td>1.117052</td>\n",
       "      <td>1.170850</td>\n",
       "      <td>1.208667</td>\n",
       "      <td>1.228956</td>\n",
       "      <td>1.208091</td>\n",
       "      <td>1.277028</td>\n",
       "      <td>1.360186</td>\n",
       "    </tr>\n",
       "  </tbody>\n",
       "</table>\n",
       "</div>"
      ],
      "text/plain": [
       "          Conversion_op2                                                    \\\n",
       "Year                2008      2009      2010      2011      2012      2013   \n",
       "Month-Day                                                                    \n",
       "0101                 NaN  1.039724  1.128197  1.164769  1.197892  1.232354   \n",
       "0102                 NaN  1.043783  1.120105  1.165938  1.197892  1.229838   \n",
       "0103                 NaN  1.043783  1.121027  1.160178  1.199120  1.231857   \n",
       "0104                 NaN  1.043783  1.121027  1.159097  1.198654  1.231853   \n",
       "0105                 NaN  1.045309  1.117052  1.170850  1.208667  1.228956   \n",
       "\n",
       "                                         \n",
       "Year           2014      2015      2016  \n",
       "Month-Day                                \n",
       "0101       1.203232       NaN  1.357325  \n",
       "0102       1.205049       NaN  1.357310  \n",
       "0103       1.202008       NaN  1.357561  \n",
       "0104       1.206721  1.277028  1.357561  \n",
       "0105       1.208091  1.277028  1.360186  "
      ]
     },
     "execution_count": 96,
     "metadata": {},
     "output_type": "execute_result"
    }
   ],
   "source": [
    "fx_pre.head()"
   ]
  },
  {
   "cell_type": "markdown",
   "metadata": {},
   "source": [
    "## Plots (tbd)"
   ]
  },
  {
   "cell_type": "code",
   "execution_count": 155,
   "metadata": {},
   "outputs": [],
   "source": [
    "# matplotlib\n",
    "#plt.plot(x, y, color = 'r')\n",
    "#plt.grid(axis = 'y', color='black', linestyle='--', linewidth=0.1)\n",
    "#plt.xlabel('Date')\n",
    "#plt.ylabel('Conversion Rate')\n",
    "#plt.title('Conversion Rate £ --> €', fontweight=\"bold\")"
   ]
  },
  {
   "cell_type": "code",
   "execution_count": 156,
   "metadata": {},
   "outputs": [],
   "source": [
    "# fx_pre['Conversion_op2'][[2014, 2015, 2016]].plot()\n",
    "# fx_post['Conversion_op2'][[2016, 2017, 2018]].plot()"
   ]
  },
  {
   "cell_type": "code",
   "execution_count": null,
   "metadata": {},
   "outputs": [],
   "source": []
  },
  {
   "cell_type": "code",
   "execution_count": 183,
   "metadata": {},
   "outputs": [
    {
     "data": {
      "text/plain": [
       "<matplotlib.axes._subplots.AxesSubplot at 0x2778313bfd0>"
      ]
     },
     "execution_count": 183,
     "metadata": {},
     "output_type": "execute_result"
    },
    {
     "data": {
      "image/png": "[encoded data removed]",
      "text/plain": [
       "<Figure size 432x288 with 1 Axes>"
      ]
     },
     "metadata": {},
     "output_type": "display_data"
    }
   ],
   "source": [
    "fx_pre['Conversion_op2'][[2009, 2010]].plot()"
   ]
  },
  {
   "cell_type": "code",
   "execution_count": null,
   "metadata": {},
   "outputs": [],
   "source": []
  },
  {
   "cell_type": "code",
   "execution_count": null,
   "metadata": {},
   "outputs": [],
   "source": []
  }
 ],
 "metadata": {
  "kernelspec": {
   "display_name": "Python 3",
   "language": "python",
   "name": "python3"
  },
  "language_info": {
   "codemirror_mode": {
    "name": "ipython",
    "version": 3
   },
   "file_extension": ".py",
   "mimetype": "text/x-python",
   "name": "python",
   "nbconvert_exporter": "python",
   "pygments_lexer": "ipython3",
   "version": "3.6.8"
  }
 },
 "nbformat": 4,
 "nbformat_minor": 2
}
